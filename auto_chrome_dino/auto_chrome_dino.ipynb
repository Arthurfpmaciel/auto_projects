{
 "cells": [
  {
   "cell_type": "code",
   "execution_count": null,
   "id": "e6b3d322",
   "metadata": {},
   "outputs": [],
   "source": [
    "# automação do jogo chrome dino\n",
    "# site: chrome://dino/"
   ]
  },
  {
   "cell_type": "code",
   "execution_count": 1,
   "id": "495e0fb1",
   "metadata": {},
   "outputs": [],
   "source": [
    "# imports\n",
    "# automação de teclado\n",
    "import pyautogui\n",
    "# captura de tela\n",
    "from PIL import ImageGrab\n",
    "# controle de tempo\n",
    "import time\n",
    "# sensores do teclado\n",
    "import keyboard\n",
    "# sensores do mouse\n",
    "from mouseinfo import mouseInfo"
   ]
  },
  {
   "cell_type": "code",
   "execution_count": 2,
   "id": "aea5c180",
   "metadata": {},
   "outputs": [
    {
     "name": "stdout",
     "output_type": "stream",
     "text": [
      "PIL      : 8.4.0\n",
      "pyautogui: 0.9.54\n",
      "keyboard : 0.13.5\n",
      "\n"
     ]
    }
   ],
   "source": [
    "# versões\n",
    "\n",
    "# PIL      : 8.4.0\n",
    "# keyboard : 0.13.5\n",
    "# pyautogui: 0.9.54\n",
    "%reload_ext watermark\n",
    "%watermark --iversions"
   ]
  },
  {
   "cell_type": "code",
   "execution_count": 67,
   "id": "a48aa933",
   "metadata": {},
   "outputs": [],
   "source": [
    "# F6 - obtem coordenadas\n",
    "# F7 - obtem RGB\n",
    "mouseInfo()"
   ]
  },
  {
   "cell_type": "code",
   "execution_count": 43,
   "id": "ff13aaa3",
   "metadata": {},
   "outputs": [],
   "source": [
    "# botões\n",
    "# pular\n",
    "def press_up():\n",
    "    pyautogui.press('up')\n",
    "# abaixar\n",
    "def press_down():\n",
    "    pyautogui.press('down')\n",
    "# manter abaixado\n",
    "def keep_down(s):\n",
    "    pyautogui.keyDown('down')\n",
    "    time.sleep(s)\n",
    "    pyautogui.keyUp('down')\n",
    "    \n",
    "\n",
    "# loop de execução principal do programa\n",
    "def game_loop_v1():\n",
    "    global count, sleep_time, xr_start,xr_end,xr_step\n",
    "    # capturar tela\n",
    "    screenshot = ImageGrab.grab()\n",
    "\n",
    "    # reduzir o intervalo de acordo com a contagem de objetos\n",
    "    if count%15 ==0 and sleep_time>0.05:\n",
    "        sleep_time -= 0.01\n",
    "    if count%15 == 0 and sleep_time>0.05:\n",
    "        xr_start+=10\n",
    "    x_range = list(range(xr_start,xr_end+1,xr_step))\n",
    "    \n",
    "    # verificar se o jogo esta no modo escuro ou claro\n",
    "    if screenshot.getpixel((900,900))[0]>200:\n",
    "        for i in x_range:\n",
    "            # pular sobre objetos\n",
    "            if screenshot.getpixel((i,630))[0]<150:\n",
    "                press_up()\n",
    "                time.sleep(sleep_time)\n",
    "                press_down()\n",
    "                count+=1\n",
    "                print(f\"Posição do sensor: {i}\")\n",
    "                print(f\"Contador: {count}\")\n",
    "                break\n",
    "            # manter abaixado\n",
    "            elif ((i-xr_start)/xr_step)%5==0 and screenshot.getpixel((i,588))[0]<150:\n",
    "                keep_down(0.4)\n",
    "                count+=1\n",
    "                break\n",
    "    else:\n",
    "        for i in x_range:\n",
    "            # pular sobre objetos\n",
    "            if screenshot.getpixel((i,630))[0]>150:\n",
    "                press_up()\n",
    "                time.sleep(sleep_time)\n",
    "                press_down()\n",
    "                count+=1\n",
    "                break\n",
    "            # manter abaixado\n",
    "            elif ((i-xr_start)/xr_step)%5==0 and screenshot.getpixel((i,588))[0]>150:\n",
    "                keep_down(0.4)\n",
    "                count+=1\n",
    "                break"
   ]
  },
  {
   "cell_type": "code",
   "execution_count": 65,
   "id": "e4277b92",
   "metadata": {},
   "outputs": [],
   "source": [
    "\n",
    "\n",
    "def game_loop_v2():\n",
    "    global count, sleep_time, xr_start,xr_end,xr_step\n",
    "    # capturar tela\n",
    "    screenshot = ImageGrab.grab()\n",
    "\n",
    "    # reduzir o intervalo de acordo com a contagem de objetos\n",
    "    if count%15 == 0 and sleep_time>0.05:\n",
    "        sleep_time -= 0.01\n",
    "    if count%15 == 0 and sleep_time>0.05:\n",
    "        xr_start+=10\n",
    "\n",
    "    x_range = list(range(xr_start,xr_end+1,xr_step))\n",
    "    for i in x_range:\n",
    "        # pular sobre objetos\n",
    "        if screenshot.getpixel((i,660))[0]<150:\n",
    "            press_up()\n",
    "            time.sleep(sleep_time)\n",
    "            press_down()\n",
    "            count+=1\n",
    "            break\n",
    "        # manter abaixado\n",
    "        elif ((i-xr_start)/xr_step)%5==0 and screenshot.getpixel((i,588))[0]<150:\n",
    "            keep_down(0.4)\n",
    "            count+=1\n",
    "            break"
   ]
  },
  {
   "cell_type": "code",
   "execution_count": 66,
   "id": "6d8b5f01",
   "metadata": {},
   "outputs": [
    {
     "ename": "KeyboardInterrupt",
     "evalue": "",
     "output_type": "error",
     "traceback": [
      "\u001b[1;31m---------------------------------------------------------------------------\u001b[0m",
      "\u001b[1;31mKeyboardInterrupt\u001b[0m                         Traceback (most recent call last)",
      "\u001b[1;32m<ipython-input-66-66da3b154cbe>\u001b[0m in \u001b[0;36m<module>\u001b[1;34m\u001b[0m\n\u001b[0;32m     11\u001b[0m \u001b[0mpress_up\u001b[0m\u001b[1;33m(\u001b[0m\u001b[1;33m)\u001b[0m\u001b[1;33m\u001b[0m\u001b[1;33m\u001b[0m\u001b[0m\n\u001b[0;32m     12\u001b[0m \u001b[1;32mwhile\u001b[0m \u001b[1;32mTrue\u001b[0m\u001b[1;33m:\u001b[0m \u001b[1;31m# not keyboard.is_pressed('-'):\u001b[0m\u001b[1;33m\u001b[0m\u001b[1;33m\u001b[0m\u001b[0m\n\u001b[1;32m---> 13\u001b[1;33m     \u001b[0mgame_loop_v2\u001b[0m\u001b[1;33m(\u001b[0m\u001b[1;33m)\u001b[0m\u001b[1;33m\u001b[0m\u001b[1;33m\u001b[0m\u001b[0m\n\u001b[0m",
      "\u001b[1;32m<ipython-input-65-cff5cb3a1ca0>\u001b[0m in \u001b[0;36mgame_loop_v2\u001b[1;34m()\u001b[0m\n\u001b[0;32m     22\u001b[0m         \u001b[1;32mif\u001b[0m \u001b[0mscreenshot\u001b[0m\u001b[1;33m.\u001b[0m\u001b[0mgetpixel\u001b[0m\u001b[1;33m(\u001b[0m\u001b[1;33m(\u001b[0m\u001b[0mi\u001b[0m\u001b[1;33m,\u001b[0m\u001b[1;36m660\u001b[0m\u001b[1;33m)\u001b[0m\u001b[1;33m)\u001b[0m\u001b[1;33m[\u001b[0m\u001b[1;36m0\u001b[0m\u001b[1;33m]\u001b[0m\u001b[1;33m<\u001b[0m\u001b[1;36m150\u001b[0m\u001b[1;33m:\u001b[0m\u001b[1;33m\u001b[0m\u001b[1;33m\u001b[0m\u001b[0m\n\u001b[0;32m     23\u001b[0m             \u001b[0mpress_up\u001b[0m\u001b[1;33m(\u001b[0m\u001b[1;33m)\u001b[0m\u001b[1;33m\u001b[0m\u001b[1;33m\u001b[0m\u001b[0m\n\u001b[1;32m---> 24\u001b[1;33m             \u001b[0mtime\u001b[0m\u001b[1;33m.\u001b[0m\u001b[0msleep\u001b[0m\u001b[1;33m(\u001b[0m\u001b[0msleep_time\u001b[0m\u001b[1;33m)\u001b[0m\u001b[1;33m\u001b[0m\u001b[1;33m\u001b[0m\u001b[0m\n\u001b[0m\u001b[0;32m     25\u001b[0m             \u001b[0mpress_down\u001b[0m\u001b[1;33m(\u001b[0m\u001b[1;33m)\u001b[0m\u001b[1;33m\u001b[0m\u001b[1;33m\u001b[0m\u001b[0m\n\u001b[0;32m     26\u001b[0m             \u001b[0mcount\u001b[0m\u001b[1;33m+=\u001b[0m\u001b[1;36m1\u001b[0m\u001b[1;33m\u001b[0m\u001b[1;33m\u001b[0m\u001b[0m\n",
      "\u001b[1;31mKeyboardInterrupt\u001b[0m: "
     ]
    }
   ],
   "source": [
    "# modo de uso\n",
    "    # rode todas as células\n",
    "    # abra o jogo: chrome://dino/\n",
    "    # pressione \"=\"\n",
    "    # para finalizar interropa a execução da célula ou troque o comentario do while True para finalizar ao pressionar \"-\"\n",
    "# melhor pontuação: 3786\n",
    "count = 0\n",
    "# intervalo sem interações\n",
    "sleep_time = 0.09\n",
    "# range de pixels de colisão em x\n",
    "xr_start = 360\n",
    "xr_step = 5\n",
    "xr_end = xr_start + xr_step*7\n",
    "\n",
    "# botão para iniciar o programa\n",
    "while not keyboard.is_pressed('='):\n",
    "    time.sleep(0.1)\n",
    "press_up()\n",
    "while True: # not keyboard.is_pressed('-'):\n",
    "    game_loop_v2()"
   ]
  },
  {
   "cell_type": "code",
   "execution_count": null,
   "id": "f39bfc34",
   "metadata": {},
   "outputs": [],
   "source": [
    "# aplicações futuras\n",
    "# sensores\n",
    "# localizar objeto em baixo\n",
    "def object_down():\n",
    "    screenshot = ImageGrab.grab()\n",
    "    for i in range(0,50,5):\n",
    "        if screenshot.getpixel((460-i,690))[0]<150:\n",
    "            return True\n",
    "    return False\n",
    "\n",
    "# localizar objeto encima\n",
    "def object_up():\n",
    "    screenshot = ImageGrab.grab()\n",
    "    for i in range(0,20,5):\n",
    "        if screenshot.getpixel((440-i,570))[0]<150:\n",
    "            return True\n",
    "    return False"
   ]
  }
 ],
 "metadata": {
  "kernelspec": {
   "display_name": "Python 3",
   "language": "python",
   "name": "python3"
  },
  "language_info": {
   "codemirror_mode": {
    "name": "ipython",
    "version": 3
   },
   "file_extension": ".py",
   "mimetype": "text/x-python",
   "name": "python",
   "nbconvert_exporter": "python",
   "pygments_lexer": "ipython3",
   "version": "3.8.8"
  }
 },
 "nbformat": 4,
 "nbformat_minor": 5
}
