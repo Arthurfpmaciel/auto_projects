{
 "cells": [
  {
   "cell_type": "code",
   "execution_count": null,
   "id": "e6b3d322",
   "metadata": {},
   "outputs": [],
   "source": [
    "# automação do jogo chrome dino\n",
    "# site: chrome://dino/"
   ]
  },
  {
   "cell_type": "code",
   "execution_count": 35,
   "id": "495e0fb1",
   "metadata": {},
   "outputs": [],
   "source": [
    "# imports\n",
    "# automação de teclado\n",
    "import pyautogui\n",
    "# captura de tela\n",
    "from PIL import ImageGrab\n",
    "# controle de tempo\n",
    "import time\n",
    "# sensores do teclado\n",
    "import keyboard\n",
    "# sensores do mouse\n",
    "from mouseinfo import mouseInfo"
   ]
  },
  {
   "cell_type": "code",
   "execution_count": 36,
   "id": "aea5c180",
   "metadata": {},
   "outputs": [
    {
     "name": "stdout",
     "output_type": "stream",
     "text": [
      "PIL      : 8.4.0\n",
      "keyboard : 0.13.5\n",
      "pyautogui: 0.9.54\n",
      "\n"
     ]
    }
   ],
   "source": [
    "# versões\n",
    "\n",
    "# PIL      : 8.4.0\n",
    "# keyboard : 0.13.5\n",
    "# pyautogui: 0.9.54\n",
    "%reload_ext watermark\n",
    "%watermark --iversions"
   ]
  },
  {
   "cell_type": "code",
   "execution_count": 28,
   "id": "a48aa933",
   "metadata": {},
   "outputs": [],
   "source": [
    "# F6 - obtem coordenadas\n",
    "# F7 - obtem RGB\n",
    "mouseInfo()"
   ]
  },
  {
   "cell_type": "code",
   "execution_count": 33,
   "id": "ff13aaa3",
   "metadata": {},
   "outputs": [],
   "source": [
    "# botões\n",
    "# pular\n",
    "def press_up():\n",
    "    pyautogui.press('up')\n",
    "# abaixar\n",
    "def press_down():\n",
    "    pyautogui.press('down')\n",
    "# manter abaixado\n",
    "def keep_down(s):\n",
    "    pyautogui.keyDown('down')\n",
    "    time.sleep(s)\n",
    "    pyautogui.keyUp('down')\n",
    "    \n",
    "# loop de execução principal do programa\n",
    "def game_loop_v1():\n",
    "    global count\n",
    "    # capturar tela\n",
    "    screenshot = ImageGrab.grab()\n",
    "    # intervalo sem interações\n",
    "    sleep_time = 0.08\n",
    "    # range de pixels de colisão em x\n",
    "    xr_start = 350\n",
    "    xr_step = 5\n",
    "    xr_end = xr_start + xr_step*10\n",
    "    # reduzir o intervalo de acordo com a contagem de objetos\n",
    "    if count%25 ==0 and sleep_time>0.05:\n",
    "        sleep_time -= 0.01\n",
    "    if count%15==0 and sleep_time>0.05:\n",
    "        xr_start+=10\n",
    "    x_range = list(range(xr_start,xr_end+1,xr_step))\n",
    "    \n",
    "    # verificar se o jogo esta no modo escuro ou claro\n",
    "    if screenshot.getpixel((864,809))[0]>200:\n",
    "        for i in x_range:\n",
    "            # pular sobre objetos\n",
    "            if screenshot.getpixel((i,630))[0]<150:\n",
    "                press_up()\n",
    "                time.sleep(sleep_time)\n",
    "                press_down()\n",
    "                count+=1\n",
    "                break\n",
    "            # manter abaixado\n",
    "            elif ((i-xr_start)/xr_step)%5==0 and screenshot.getpixel((i,588))[0]<150:\n",
    "                keep_down(0.4)\n",
    "                count+=1\n",
    "                break\n",
    "    else:\n",
    "        for i in x_range:\n",
    "            # pular sobre objetos\n",
    "            if screenshot.getpixel((i,630))[0]>150:\n",
    "                press_up()\n",
    "                time.sleep(sleep_time)\n",
    "                press_down()\n",
    "                count+=1\n",
    "                break\n",
    "            # manter abaixado\n",
    "            elif ((i-xr_start)/xr_step)%5==0 and screenshot.getpixel((i,588))[0]>150:\n",
    "                keep_down(0.4)\n",
    "                count+=1\n",
    "                break"
   ]
  },
  {
   "cell_type": "code",
   "execution_count": null,
   "id": "f39bfc34",
   "metadata": {},
   "outputs": [],
   "source": [
    "# aplicações futuras\n",
    "# sensores\n",
    "# localizar objeto em baixo\n",
    "def object_down():\n",
    "    screenshot = ImageGrab.grab()\n",
    "    for i in range(0,50,5):\n",
    "        if screenshot.getpixel((460-i,690))[0]<150:\n",
    "            return True\n",
    "    return False\n",
    "\n",
    "# localizar objeto encima\n",
    "def object_up():\n",
    "    screenshot = ImageGrab.grab()\n",
    "    for i in range(0,20,5):\n",
    "        if screenshot.getpixel((440-i,570))[0]<150:\n",
    "            return True\n",
    "    return False"
   ]
  }
 ],
 "metadata": {
  "kernelspec": {
   "display_name": "Python 3",
   "language": "python",
   "name": "python3"
  },
  "language_info": {
   "codemirror_mode": {
    "name": "ipython",
    "version": 3
   },
   "file_extension": ".py",
   "mimetype": "text/x-python",
   "name": "python",
   "nbconvert_exporter": "python",
   "pygments_lexer": "ipython3",
   "version": "3.8.8"
  }
 },
 "nbformat": 4,
 "nbformat_minor": 5
}
